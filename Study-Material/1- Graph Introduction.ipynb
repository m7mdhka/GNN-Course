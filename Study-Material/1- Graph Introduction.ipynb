{
 "cells": [
  {
   "cell_type": "markdown",
   "metadata": {},
   "source": [
    "# Let's think together"
   ]
  },
  {
   "cell_type": "markdown",
   "metadata": {},
   "source": [
    "<div style=\"display: flex; justify-content: space-between; align-items: center;\">\n",
    "    <div style=\"flex: 1;\">\n",
    "        <b>Do you ever wonder how LinkedIn suggests new connections for you?</b> It feels almost magical, right? Well, there's some clever technology behind it called a Graph Neural Network (GNN). Imagine your LinkedIn network as a giant web – you're a dot in the middle, and everyone you're connected to is another dot with lines linking you together.</br>\n",
    "        A GNN is like a super-smart detective who analyzes this web of connections. <br>\n",
    "        It looks at your profile (your skills, experience, etc.), who you're already connected to (your colleagues, classmates, etc.), and then uses this information to find other similar dots (people) in the web. These similar dots become your suggested connections – people you might know or who share similar backgrounds, making them potentially valuable connections for you.\n",
    "    </div>\n",
    "    <div style=\"flex: 1; text-align: right; margin-right: 80px;\">\n",
    "        <img src=\"Images/1686623162238.jpg\" alt=\"Your Image\" width=\"300\" height=\"300\">\n",
    "    </div>\n",
    "</div>"
   ]
  },
  {
   "cell_type": "markdown",
   "metadata": {},
   "source": [
    "# Graphs?!"
   ]
  },
  {
   "cell_type": "markdown",
   "metadata": {},
   "source": [
    "After reading the introduction above, you might find yourself pondering a crucial question: **What is the significance of graphs, and why do we used them?**\\\n",
    "Graphs used for **understanding the complex systems and relationships**."
   ]
  },
  {
   "cell_type": "markdown",
   "metadata": {},
   "source": [
    "<div style=\"display: flex; justify-content: space-between; align-items: top;\">\n",
    "    <div style=\"flex: 1;\">\n",
    "    A graph is a visual representation of a collection of <b>nodes (also called vertices)</b> and <b>edges</b> represent entities and their relationships (the connections between the nodes).<br>\n",
    "    <br>\n",
    "    And we can utilize graphs in any domain that you can imagine, such as engineering! In this context, the <b>nodes</b> represent electrical components (resistors, capacitors, transistors), and <b>edges</b> symbolize connections between components (wires). This application is particularly valuable for analyzing electrical circuits, aiding in the understanding of voltage, current flow, and identifying potential faults.\n",
    "    </div>\n",
    "    <div style=\"flex: 1; text-align: right; margin-right: 80px;\">\n",
    "        <img src=\"Images/image11.webp\" alt=\"Your Image\" width=\"300\" height=\"300\">\n",
    "    </div>\n",
    "</div>"
   ]
  },
  {
   "cell_type": "markdown",
   "metadata": {},
   "source": [
    "<div style=\"display: flex; justify-content: space-between; align-items: top;\">\n",
    "    <div style=\"flex: 1;\">\n",
    "    Do you believe this marks the conclusion of graphs? Not at all! Graphs can adeptly handle unstructured data, including images and text, as depicted in the picture.\n",
    "    </div>\n",
    "    <div style=\"flex: 1; text-align: right; margin-right: 190px;\">\n",
    "        <img src=\"Images/Screenshot 2024-03-05 003507.png\" alt=\"Your Image\" width=\"100\" height=\"150\">\n",
    "    </div>\n",
    "</div>"
   ]
  },
  {
   "cell_type": "markdown",
   "metadata": {},
   "source": [
    "\n",
    "Now, let's imagine that we feed the text into our Large Language Model (LLM) without padding it! However, this is not feasible because, in various models such as computer vision (CV), natural language processing (NLP), deep learning (DL), and machine learning (ML), having a fixed input shape is a prerequisite. Interestingly, this is not the case with graphs. **Regardless of your shape, graphs can accommodate and process data without the need for a fixed input structure**."
   ]
  },
  {
   "cell_type": "markdown",
   "metadata": {},
   "source": [
    "# Graph learning"
   ]
  },
  {
   "cell_type": "markdown",
   "metadata": {},
   "source": []
  }
 ],
 "metadata": {
  "language_info": {
   "name": "python"
  }
 },
 "nbformat": 4,
 "nbformat_minor": 2
}
